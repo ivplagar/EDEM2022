{
  "nbformat": 4,
  "nbformat_minor": 0,
  "metadata": {
    "colab": {
      "provenance": [],
      "include_colab_link": true
    },
    "kernelspec": {
      "name": "python3",
      "display_name": "Python 3"
    },
    "language_info": {
      "name": "python"
    }
  },
  "cells": [
    {
      "cell_type": "markdown",
      "metadata": {
        "id": "view-in-github",
        "colab_type": "text"
      },
      "source": [
        "<a href=\"https://colab.research.google.com/github/ivplagar/EDEM2022/blob/main/Estadi%CC%81sticaPython2.ipynb\" target=\"_parent\"><img src=\"https://colab.research.google.com/assets/colab-badge.svg\" alt=\"Open In Colab\"/></a>"
      ]
    },
    {
      "cell_type": "markdown",
      "source": [
        "# Distribuciones de probabilidad\n",
        "Describe como está distribuida una variable aleatoria. Nos dice qué valores de una variable aleatoria son más probables así como cuales lo son menos."
      ],
      "metadata": {
        "id": "I_LiVquajbb2"
      }
    },
    {
      "cell_type": "code",
      "source": [
        "%matplotlib inline\n",
        "\n",
        "import numpy as np\n",
        "import pandas as pd\n",
        "import matplotlib.pyplot as plt\n",
        "import scipy.stats as stats\n",
        "import random"
      ],
      "metadata": {
        "id": "f1kLU-rAkGvO"
      },
      "execution_count": 3,
      "outputs": []
    },
    {
      "cell_type": "markdown",
      "source": [
        "# Distribución Uniforme"
      ],
      "metadata": {
        "id": "Jh388tfzj-eW"
      }
    },
    {
      "cell_type": "code",
      "execution_count": 8,
      "metadata": {
        "id": "Zdr8EhnejWZG",
        "colab": {
          "base_uri": "https://localhost:8080/"
        },
        "outputId": "1d475ad8-a4b5-47bd-9f2c-45bb189ae2e6"
      },
      "outputs": [
        {
          "output_type": "execute_result",
          "data": {
            "text/plain": [
              "array([1.95460786, 4.39020947, 6.32298341, ..., 2.27687771, 6.15027007,\n",
              "       7.07087113])"
            ]
          },
          "metadata": {},
          "execution_count": 8
        }
      ],
      "source": [
        "#uniform es el nombre de la distribución\n",
        "#si queremos que siempre sea la misma muestra, siempre será aleatoria, pero podemos poner un set seed (la semilla)\n",
        "uniform_data = stats.uniform.rvs(size=100000,  #Generate 100000 numbers\n",
        "                                 loc = 0,      #From 0 \n",
        "                                 scale=10)     #To 10\n",
        "uniform_data     \n",
        "#np.mean(uniform_data)\n",
        "\n",
        "                                "
      ]
    },
    {
      "cell_type": "code",
      "source": [
        "pd.DataFrame(uniform_data).plot(kind=\"density\",  # Plot the distribution\n",
        "                               figsize=(9,9),\n",
        "                               xlim=(-1,11));"
      ],
      "metadata": {
        "colab": {
          "base_uri": "https://localhost:8080/",
          "height": 537
        },
        "id": "TH6ADFwQkPdu",
        "outputId": "2981b202-39c7-485d-9a0a-3ce723a5371b"
      },
      "execution_count": 9,
      "outputs": [
        {
          "output_type": "display_data",
          "data": {
            "text/plain": [
              "<Figure size 648x648 with 1 Axes>"
            ],
            "image/png": "[encoded data removed]"
          },
          "metadata": {
            "needs_background": "light"
          }
        }
      ]
    },
    {
      "cell_type": "markdown",
      "source": [
        "stats.distribution.rvs() genera muestras aleatorias de una distribución concreta. Depende la distribución que estemos trabajando le tendremos que dar unos inputs o otros.\n",
        "\n",
        "tats.distribution.cdf se usa para determinar la probabilidad de que dicha distribución tome en el valor que le indicamos o uno menos (función de distribución)\n",
        "\n"
      ],
      "metadata": {
        "id": "sziPAObmkZ1E"
      }
    },
    {
      "cell_type": "code",
      "source": [
        "stats.uniform.cdf(x=2.5,         # Cutoff value (quantile) to check\n",
        "                  loc=0,         # Distribution start\n",
        "                  scale=10)      # Distribution end"
      ],
      "metadata": {
        "id": "bTqWS8KKlCvo"
      },
      "execution_count": null,
      "outputs": []
    },
    {
      "cell_type": "markdown",
      "source": [
        "stats.distribution.ppf() es la inversa de cdf. Te devuelve el valor de la variable (cuantil) asociado a la probabilidad acumulada que le indiques."
      ],
      "metadata": {
        "id": "ZJaaa7OjlMdO"
      }
    },
    {
      "cell_type": "code",
      "source": [
        "stats.uniform.ppf(q=0.4,         # Probability cutoff\n",
        "                  loc=0,         # Distribution start\n",
        "                  scale=10)      # Distribution end"
      ],
      "metadata": {
        "id": "zcwq9ImzljvY"
      },
      "execution_count": null,
      "outputs": []
    },
    {
      "cell_type": "markdown",
      "source": [
        "stats.distribution.pdf() nos indica la función de densidad (la altura dela función de distribución) dado un valor de x."
      ],
      "metadata": {
        "id": "P_VyDY7WmoeY"
      }
    },
    {
      "cell_type": "code",
      "source": [
        "for x in range(-1,12,3):\n",
        "    print(\"Density at x value \" + str(x))\n",
        "    print( stats.uniform.pdf(x, loc=0, scale=10) )   "
      ],
      "metadata": {
        "id": "io_9FJ0NnGAn"
      },
      "execution_count": null,
      "outputs": []
    },
    {
      "cell_type": "markdown",
      "source": [
        "La distribución normal o gaussiana es una distribución de probabilidad continua caracterizada por una curva simétrica en forma de campana. Una distribución normal se define por su centro (media) y dispersión (desviación estándar). La mayor parte de las observaciones generadas a partir de una distribución normal se encuentran cerca de la media, que se encuentra en el centro exacto de la distribución: como regla general, alrededor del 68 % de los datos se encuentran dentro de 1 desviación estándar de la media, el 95 % se encuentra dentro de 2 desviaciones estándar y el 99,7% se encuentran dentro de 3 desviaciones estándar.\n",
        "\n",
        "La distribución normal es quizás la distribución más importante de todas las estadísticas. Resulta que muchos fenómenos del mundo real, como los puntajes de las pruebas de coeficiente intelectual y las alturas humanas, siguen aproximadamente una distribución normal, por lo que a menudo se usa para modelar variables aleatorias. Muchas pruebas estadísticas comunes asumen que las distribuciones son normales.\n",
        "\n",
        "El apodo de scipy para la distribución normal es norm. Investiguemos la distribución normal:"
      ],
      "metadata": {
        "id": "Z0lGCKHhngks"
      }
    },
    {
      "cell_type": "code",
      "source": [
        "prob_under_minus1 = stats.norm.cdf(x= -1,  \n",
        "                                loc = 0,               \n",
        "                                scale= 1)     \n",
        "\n",
        "prob_over_1 = 1 - stats.norm.cdf(x= 1,  \n",
        "                                loc = 0,               \n",
        "                                scale= 1) \n",
        "\n",
        "between_prob = 1-(prob_under_minus1+prob_over_1)\n",
        "\n",
        "print(prob_under_minus1, prob_over_1, between_prob)"
      ],
      "metadata": {
        "colab": {
          "base_uri": "https://localhost:8080/"
        },
        "id": "OrF8wCBOnzQL",
        "outputId": "ef02fa83-7242-4175-cce2-5f8840ecb223"
      },
      "execution_count": null,
      "outputs": [
        {
          "output_type": "stream",
          "name": "stdout",
          "text": [
            "0.15865525393145707 0.15865525393145707 0.6826894921370859\n"
          ]
        }
      ]
    },
    {
      "cell_type": "markdown",
      "source": [
        "El resultado muestra que aproximadamente el 16 % de los datos generados por una distribución normal con media 0 y desviación estándar 1 está por debajo de -1, el 16 % está por encima de 1 y el 68 % se encuentra entre -1 y 1, lo que concuerda con 68, 95, regla 99.7."
      ],
      "metadata": {
        "id": "Zd-Ua3DCo2c9"
      }
    },
    {
      "cell_type": "code",
      "source": [
        "# Plot normal distribution areas*\n",
        "\n",
        "plt.rcParams[\"figure.figsize\"] = (9,9)\n",
        "                                  \n",
        "plt.fill_between(x=np.arange(-4,-1,0.01), \n",
        "                 y1= stats.norm.pdf(np.arange(-4,-1,0.01)) ,\n",
        "                 facecolor='red',\n",
        "                 alpha=0.35)\n",
        "\n",
        "plt.fill_between(x=np.arange(1,4,0.01), \n",
        "                 y1= stats.norm.pdf(np.arange(1,4,0.01)) ,\n",
        "                 facecolor='red',\n",
        "                 alpha=0.35)\n",
        "\n",
        "plt.fill_between(x=np.arange(-1,1,0.01), \n",
        "                 y1= stats.norm.pdf(np.arange(-1,1,0.01)) ,\n",
        "                 facecolor='blue',\n",
        "                 alpha=0.35)\n",
        "\n",
        "plt.text(x=-1.8, y=0.03, s= round(prob_under_minus1,3))\n",
        "plt.text(x=-0.2, y=0.1, s= round(between_prob,3))\n",
        "plt.text(x=1.4, y=0.03, s= round(prob_over_1,3));"
      ],
      "metadata": {
        "colab": {
          "base_uri": "https://localhost:8080/",
          "height": 537
        },
        "id": "whZkZy00pGsq",
        "outputId": "6e891eca-3de4-4a12-d26f-dc824f8668b4"
      },
      "execution_count": null,
      "outputs": [
        {
          "output_type": "display_data",
          "data": {
            "text/plain": [
              "<Figure size 648x648 with 1 Axes>"
            ],
            "image/png": "[encoded data removed]"
          },
          "metadata": {
            "needs_background": "light"
          }
        }
      ]
    },
    {
      "cell_type": "markdown",
      "source": [
        "Encontrar cuantiles de la distribución normal es una tarea común cuando se realizan pruebas estadísticas. Puede comprobar los cuantiles de distribución normal con stats.norm.ppf():"
      ],
      "metadata": {
        "id": "AFLHGj8Ipf3j"
      }
    },
    {
      "cell_type": "code",
      "source": [
        "print( stats.norm.ppf(q=0.025) ) # Find the quantile for the 2.5% cutoff\n",
        "\n",
        "print( stats.norm.ppf(q=0.975) ) # Find the quantile for the 97.5% cutoff"
      ],
      "metadata": {
        "id": "5HAo6bvrplIr"
      },
      "execution_count": null,
      "outputs": []
    },
    {
      "cell_type": "markdown",
      "source": [
        "El resultado del cuantil anterior confirma que aproximadamente el 5 % de los datos se encuentran a más de 2 desviaciones estándar de la media."
      ],
      "metadata": {
        "id": "FTrM1LWdpwUc"
      }
    },
    {
      "cell_type": "markdown",
      "source": [
        "#Distribución Binomial"
      ],
      "metadata": {
        "id": "UV-TIjhYqRuq"
      }
    },
    {
      "cell_type": "markdown",
      "source": [
        "La [distribución binomial](https://en.wikipedia.org/wiki/Binomial_distribution) es una distribución de probabilidad discreta que modela los resultados de un número dado de senderos aleatorios de algún experimento o evento. El binomio se define por dos parámetros: la probabilidad de éxito en cualquier intento y el número de intentos. La distribución binomial te dice qué tan probable es lograr un número dado de éxitos en n intentos del experimento. Por ejemplo, podríamos modelar el lanzamiento de una moneda al aire 10 veces con una distribución binomial donde el número de intentos se establece en 10 y la probabilidad de éxito se establece en 0,5. En este caso, la distribución nos diría qué tan probable es obtener cero caras, 1 cara, 2 caras y así sucesivamente.\n",
        "\n",
        "El nombre de Scipy para el binomio es binomial. Generemos e investiguemos algunos datos binomiales:"
      ],
      "metadata": {
        "id": "4D-vE19sqP2K"
      }
    },
    {
      "cell_type": "code",
      "source": [
        "fair_coin_flips = stats.binom.rvs(n=10,        # Number of flips per trial\n",
        "                                  p=0.5,       # Success probability\n",
        "                                  size=10000)  # Number of trials\n",
        "\n",
        "print( pd.crosstab(index=\"counts\", columns= fair_coin_flips))\n",
        "\n",
        "pd.DataFrame(fair_coin_flips).hist(range=(-0.5,10.5), bins=11);"
      ],
      "metadata": {
        "colab": {
          "base_uri": "https://localhost:8080/",
          "height": 333
        },
        "id": "NAHElOlGqtXD",
        "outputId": "7ccafefa-c075-4ea0-cf28-a14ea405be9b"
      },
      "execution_count": null,
      "outputs": [
        {
          "output_type": "stream",
          "name": "stdout",
          "text": [
            "col_0   0   1    2     3     4     5     6     7    8    9   10\n",
            "row_0                                                          \n",
            "counts  13  97  450  1182  2049  2422  2043  1211  427  100   6\n"
          ]
        },
        {
          "output_type": "display_data",
          "data": {
            "text/plain": [
              "<Figure size 432x288 with 1 Axes>"
            ],
            "image/png": "[encoded data removed]"
          },
          "metadata": {
            "needs_background": "light"
          }
        }
      ]
    },
    {
      "cell_type": "markdown",
      "source": [
        "Hay que tener en cuena en cuenta que dado que la distribución binomial es discreta, solo toma valores enteros, por lo que podemos resumir los datos binomiales con una tabla de frecuencia y su distribución con un histograma. El histograma nos muestra que una distribución binomial con un 50 % de probabilidad de éxito es aproximadamente simétrica, con los resultados más probables en el centro. Esto recuerda a la distribución normal, pero si alteramos la probabilidad de éxito, la distribución no será simétrica:"
      ],
      "metadata": {
        "id": "ebClcUoJq02R"
      }
    },
    {
      "cell_type": "code",
      "source": [
        "biased_coin_flips = stats.binom.rvs(n=10,      # Number of flips per trial\n",
        "                                  p=0.8,       # Success probability\n",
        "                                  size=10000)  # Number of trials\n",
        "\n",
        "# Print table of counts\n",
        "print( pd.crosstab(index=\"counts\", columns= biased_coin_flips))\n",
        "\n",
        "# Plot histogram\n",
        "pd.DataFrame(biased_coin_flips).hist(range=(-0.5,10.5), bins=11);"
      ],
      "metadata": {
        "colab": {
          "base_uri": "https://localhost:8080/",
          "height": 333
        },
        "id": "u7Su3Cufq5gP",
        "outputId": "5c201a9d-1052-4bf0-b908-32eb2ae3da02"
      },
      "execution_count": null,
      "outputs": [
        {
          "output_type": "stream",
          "name": "stdout",
          "text": [
            "col_0   3   4    5    6     7     8     9     10\n",
            "row_0                                           \n",
            "counts   7  54  273  844  1998  3079  2657  1088\n"
          ]
        },
        {
          "output_type": "display_data",
          "data": {
            "text/plain": [
              "<Figure size 432x288 with 1 Axes>"
            ],
            "image/png": "[encoded data removed]"
          },
          "metadata": {
            "needs_background": "light"
          }
        }
      ]
    },
    {
      "cell_type": "markdown",
      "source": [
        "La función cdf() nos permite verificar la probabilidad de lograr una cantidad de éxitos dentro de un cierto rango:"
      ],
      "metadata": {
        "id": "B-TNfAKlrAoj"
      }
    },
    {
      "cell_type": "code",
      "source": [
        "stats.binom.cdf(k=5,        # Probability of k = 5 successes or less\n",
        "                n=10,       # With 10 flips\n",
        "                p=0.8)      # And success probability 0.8"
      ],
      "metadata": {
        "colab": {
          "base_uri": "https://localhost:8080/"
        },
        "id": "7JqCxoDzrD6h",
        "outputId": "51620bf3-6ca3-4e2c-956f-0a96c4557b55"
      },
      "execution_count": null,
      "outputs": [
        {
          "output_type": "execute_result",
          "data": {
            "text/plain": [
              "0.03279349759999997"
            ]
          },
          "metadata": {},
          "execution_count": 7
        }
      ]
    },
    {
      "cell_type": "code",
      "source": [
        "1 - stats.binom.cdf(k=8,        # Probability of k = 9 successes or more\n",
        "                    n=10,       # With 10 flips\n",
        "                    p=0.8)      # And success probability 0.8"
      ],
      "metadata": {
        "id": "DNQyBNA3rHkh"
      },
      "execution_count": null,
      "outputs": []
    },
    {
      "cell_type": "markdown",
      "source": [
        "Para funciones de densidad de probabilidad continuas, se utiliza pmf() para verificar la densidad de probabilidad en un valor x dado. Para distribuciones discretas como la binomial, se usa stats.distribution.pmf() (función de masa de probabilidad) para verificar la masa (proporción de observaciones) en un número dado de éxitos k:"
      ],
      "metadata": {
        "id": "X2TOIP3DrZZZ"
      }
    },
    {
      "cell_type": "code",
      "source": [
        "stats.binom.pmf(k=5,        # Probability of k = 5 successes\n",
        "                n=10,       # With 10 flips\n",
        "                p=0.5)      # And success probability 0.5"
      ],
      "metadata": {
        "colab": {
          "base_uri": "https://localhost:8080/"
        },
        "id": "L0eGdVl8rktK",
        "outputId": "a1cceab0-1065-43b9-a6a2-f9535d7da4df"
      },
      "execution_count": null,
      "outputs": [
        {
          "output_type": "execute_result",
          "data": {
            "text/plain": [
              "0.24609375000000003"
            ]
          },
          "metadata": {},
          "execution_count": 8
        }
      ]
    },
    {
      "cell_type": "code",
      "source": [
        "stats.binom.pmf(k=8,        # Probability of k = 8 successes\n",
        "                n=10,       # With 10 flips\n",
        "                p=0.8)      # And success probability 0.8"
      ],
      "metadata": {
        "colab": {
          "base_uri": "https://localhost:8080/"
        },
        "id": "W3D-pVFvrn4x",
        "outputId": "1934f8c5-0b90-4db5-a777-145a418ed3ef"
      },
      "execution_count": null,
      "outputs": [
        {
          "output_type": "execute_result",
          "data": {
            "text/plain": [
              "0.30198988799999993"
            ]
          },
          "metadata": {},
          "execution_count": 9
        }
      ]
    },
    {
      "cell_type": "markdown",
      "source": [
        "#Distribución de Poisson"
      ],
      "metadata": {
        "id": "zM312hGluNap"
      }
    },
    {
      "cell_type": "markdown",
      "source": [
        "La distribución de Poisson modela la probabilidad de ver una cierta cantidad de éxitos dentro de un intervalo de tiempo, donde el tiempo que lleva el siguiente éxito se modela mediante una distribución exponencial. La distribución de Poisson se puede usar para modelar el tráfico, como la cantidad de llegadas que un hospital puede esperar en una hora o la cantidad de correos electrónicos que esperaría recibir en una semana.\n",
        "\n",
        "El nombre de Scipy para la distribución de Poisson es \"poisson\". Generemos y representemos algunos datos de una distribución de Poisson con una tasa de llegada de 1 por unidad de tiempo:"
      ],
      "metadata": {
        "id": "FBI_jbeJsEt0"
      }
    },
    {
      "cell_type": "code",
      "source": [
        "random.seed(12)\n",
        "\n",
        "arrival_rate_1 = stats.poisson.rvs(size=10000,  # Generate Poisson data\n",
        "                                   mu=1 )       # Average arrival time 1\n",
        "\n",
        "# Print table of counts\n",
        "print( pd.crosstab(index=\"counts\", columns= arrival_rate_1))\n",
        "\n",
        "# Plot histogram\n",
        "pd.DataFrame(arrival_rate_1).hist(range=(-0.5,max(arrival_rate_1)+0.5)\n",
        "                                    , bins=max(arrival_rate_1)+1);"
      ],
      "metadata": {
        "colab": {
          "base_uri": "https://localhost:8080/",
          "height": 333
        },
        "id": "mTTlRGiSsLa7",
        "outputId": "0a585d1a-7e4f-4d5b-e0a9-b5c7dccaa561"
      },
      "execution_count": null,
      "outputs": [
        {
          "output_type": "stream",
          "name": "stdout",
          "text": [
            "col_0      0     1     2    3    4   5  6  7\n",
            "row_0                                       \n",
            "counts  3705  3683  1822  610  143  30  6  1\n"
          ]
        },
        {
          "output_type": "display_data",
          "data": {
            "text/plain": [
              "<Figure size 432x288 with 1 Axes>"
            ],
            "image/png": "[encoded data removed]"
          },
          "metadata": {
            "needs_background": "light"
          }
        }
      ]
    },
    {
      "cell_type": "markdown",
      "source": [
        "El histograma muestra que cuando las llegadas son relativamente poco frecuentes, es raro ver más de un par de llegadas en cada período de tiempo. Cuando la tasa de llegadas es alta, se vuelve cada vez más raro ver un número bajo de llegadas y la distribución comienza a verse más simétrica:"
      ],
      "metadata": {
        "id": "s73Qx4BosQfY"
      }
    },
    {
      "cell_type": "code",
      "source": [
        "random.seed(12)\n",
        "\n",
        "arrival_rate_10 = stats.poisson.rvs(size=10000,  # Generate Poisson data\n",
        "                                   mu=10 )       # Average arrival time 10\n",
        "\n",
        "# Print table of counts\n",
        "print( pd.crosstab(index=\"counts\", columns= arrival_rate_10))\n",
        "\n",
        "# Plot histogram\n",
        "pd.DataFrame(arrival_rate_10).hist(range=(-0.5,max(arrival_rate_10)+0.5)\n",
        "                                    , bins=max(arrival_rate_10)+1);"
      ],
      "metadata": {
        "colab": {
          "base_uri": "https://localhost:8080/",
          "height": 437
        },
        "id": "eSmvGdM5sRWZ",
        "outputId": "9402b70b-0238-4fe7-e4b1-aa4c6ec0c9e0"
      },
      "execution_count": null,
      "outputs": [
        {
          "output_type": "stream",
          "name": "stdout",
          "text": [
            "col_0   1   2   3    4    5    6    7     8     9     10  ...   16   17  18  \\\n",
            "row_0                                                     ...                 \n",
            "counts   4  18  72  183  392  598  898  1109  1282  1258  ...  219  131  70   \n",
            "\n",
            "col_0   19  20  21  22  23  25  27  \n",
            "row_0                               \n",
            "counts  32  12  12   5   1   1   1  \n",
            "\n",
            "[1 rows x 25 columns]\n"
          ]
        },
        {
          "output_type": "display_data",
          "data": {
            "text/plain": [
              "<Figure size 432x288 with 1 Axes>"
            ],
            "image/png": "[encoded data removed]"
          },
          "metadata": {
            "needs_background": "light"
          }
        }
      ]
    },
    {
      "cell_type": "markdown",
      "source": [
        "Al igual que con otras distribuciones de probabilidad discretas, podemos usar cdf() para verificar la probabilidad de lograr más o menos de un cierto número de éxitos y pmf() para verificar la probabilidad de obtener un número específico de éxitos:"
      ],
      "metadata": {
        "id": "GKzp4UDisWcx"
      }
    },
    {
      "cell_type": "code",
      "source": [
        "stats.poisson.cdf(k=5,     # Check the probability of 5 arrivals or less\n",
        "                  mu=10)   # With arrival rate 10"
      ],
      "metadata": {
        "id": "ITpxiTnpsmIa"
      },
      "execution_count": null,
      "outputs": []
    },
    {
      "cell_type": "code",
      "source": [
        "stats.poisson.cdf(k=5,     # Check the probability of 5 arrivals or less\n",
        "                  mu=10)   # With arrival rate 10"
      ],
      "metadata": {
        "id": "DjfT01acsmup"
      },
      "execution_count": null,
      "outputs": []
    }
  ]
}